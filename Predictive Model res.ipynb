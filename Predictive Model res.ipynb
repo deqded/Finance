{
 "cells": [
  {
   "cell_type": "code",
   "execution_count": 1,
   "metadata": {},
   "outputs": [],
   "source": [
    "import pandas as pd\n",
    "import numpy as np\n",
    "import matplotlib.pyplot as plt\n",
    "import os\n",
    "from sklearn.preprocessing import  MinMaxScaler\n",
    "from tensorflow.keras.preprocessing.sequence import TimeseriesGenerator\n",
    "from tensorflow.keras.models import Sequential\n",
    "from tensorflow.keras.layers import Dense\n",
    "from tensorflow.keras.layers import LSTM\n",
    "from tensorflow.keras.callbacks import EarlyStopping\n",
    "from pandas.tseries.offsets import CustomBusinessMonthBegin"
   ]
  },
  {
   "cell_type": "code",
   "execution_count": 2,
   "metadata": {
    "scrolled": true
   },
   "outputs": [],
   "source": [
    "df = pd.read_csv('sp500_Adjclose.csv')\n",
    "\n",
    "df['Date'] = pd.to_datetime(df.Date)\n",
    "\n",
    "df.set_index('Date', inplace=True)\n"
   ]
  },
  {
   "cell_type": "code",
   "execution_count": 3,
   "metadata": {},
   "outputs": [
    {
     "name": "stdout",
     "output_type": "stream",
     "text": [
      "> What is the ticker for the company whose adjusted close value you want to predict for? \n",
      ">mmm\n"
     ]
    }
   ],
   "source": [
    "ticker = input('> What is the ticker for the company'\n",
    "               ' whose adjusted close value you want to predict for? \\n>').upper()\n",
    "\n",
    "df = df.loc[:,[f'{ticker}']]\n",
    "\n",
    "df = df.resample('1M').mean()"
   ]
  },
  {
   "cell_type": "code",
   "execution_count": 4,
   "metadata": {},
   "outputs": [
    {
     "name": "stdout",
     "output_type": "stream",
     "text": [
      ">What is your test set size in months? \n",
      "Ideally less than 24 months \n",
      "18\n"
     ]
    },
    {
     "data": {
      "text/plain": [
       "224"
      ]
     },
     "execution_count": 4,
     "metadata": {},
     "output_type": "execute_result"
    }
   ],
   "source": [
    "len(df)\n",
    "\n",
    "test_size = int(input(\">What is your test set size in months? \\nIdeally less than 24 months \\n\"))\n",
    "\n",
    "len(df)- test_size"
   ]
  },
  {
   "cell_type": "code",
   "execution_count": 5,
   "metadata": {},
   "outputs": [],
   "source": [
    "test_ind = len(df)- test_size"
   ]
  },
  {
   "cell_type": "code",
   "execution_count": 6,
   "metadata": {},
   "outputs": [],
   "source": [
    "train = df.iloc[:test_ind]\n",
    "test = df.iloc[test_ind:]"
   ]
  },
  {
   "cell_type": "code",
   "execution_count": 7,
   "metadata": {},
   "outputs": [
    {
     "data": {
      "text/html": [
       "<div>\n",
       "<style scoped>\n",
       "    .dataframe tbody tr th:only-of-type {\n",
       "        vertical-align: middle;\n",
       "    }\n",
       "\n",
       "    .dataframe tbody tr th {\n",
       "        vertical-align: top;\n",
       "    }\n",
       "\n",
       "    .dataframe thead th {\n",
       "        text-align: right;\n",
       "    }\n",
       "</style>\n",
       "<table border=\"1\" class=\"dataframe\">\n",
       "  <thead>\n",
       "    <tr style=\"text-align: right;\">\n",
       "      <th></th>\n",
       "      <th>MMM</th>\n",
       "    </tr>\n",
       "    <tr>\n",
       "      <th>Date</th>\n",
       "      <th></th>\n",
       "    </tr>\n",
       "  </thead>\n",
       "  <tbody>\n",
       "    <tr>\n",
       "      <td>2000-01-31</td>\n",
       "      <td>26.994161</td>\n",
       "    </tr>\n",
       "    <tr>\n",
       "      <td>2000-02-29</td>\n",
       "      <td>24.795302</td>\n",
       "    </tr>\n",
       "    <tr>\n",
       "      <td>2000-03-31</td>\n",
       "      <td>24.288003</td>\n",
       "    </tr>\n",
       "    <tr>\n",
       "      <td>2000-04-30</td>\n",
       "      <td>25.987985</td>\n",
       "    </tr>\n",
       "    <tr>\n",
       "      <td>2000-05-31</td>\n",
       "      <td>24.487872</td>\n",
       "    </tr>\n",
       "    <tr>\n",
       "      <td>...</td>\n",
       "      <td>...</td>\n",
       "    </tr>\n",
       "    <tr>\n",
       "      <td>2018-04-30</td>\n",
       "      <td>199.112898</td>\n",
       "    </tr>\n",
       "    <tr>\n",
       "      <td>2018-05-31</td>\n",
       "      <td>188.358998</td>\n",
       "    </tr>\n",
       "    <tr>\n",
       "      <td>2018-06-30</td>\n",
       "      <td>189.831294</td>\n",
       "    </tr>\n",
       "    <tr>\n",
       "      <td>2018-07-31</td>\n",
       "      <td>190.616825</td>\n",
       "    </tr>\n",
       "    <tr>\n",
       "      <td>2018-08-31</td>\n",
       "      <td>194.950272</td>\n",
       "    </tr>\n",
       "  </tbody>\n",
       "</table>\n",
       "<p>224 rows × 1 columns</p>\n",
       "</div>"
      ],
      "text/plain": [
       "                   MMM\n",
       "Date                  \n",
       "2000-01-31   26.994161\n",
       "2000-02-29   24.795302\n",
       "2000-03-31   24.288003\n",
       "2000-04-30   25.987985\n",
       "2000-05-31   24.487872\n",
       "...                ...\n",
       "2018-04-30  199.112898\n",
       "2018-05-31  188.358998\n",
       "2018-06-30  189.831294\n",
       "2018-07-31  190.616825\n",
       "2018-08-31  194.950272\n",
       "\n",
       "[224 rows x 1 columns]"
      ]
     },
     "execution_count": 7,
     "metadata": {},
     "output_type": "execute_result"
    }
   ],
   "source": [
    "train"
   ]
  },
  {
   "cell_type": "code",
   "execution_count": 8,
   "metadata": {},
   "outputs": [
    {
     "data": {
      "text/html": [
       "<div>\n",
       "<style scoped>\n",
       "    .dataframe tbody tr th:only-of-type {\n",
       "        vertical-align: middle;\n",
       "    }\n",
       "\n",
       "    .dataframe tbody tr th {\n",
       "        vertical-align: top;\n",
       "    }\n",
       "\n",
       "    .dataframe thead th {\n",
       "        text-align: right;\n",
       "    }\n",
       "</style>\n",
       "<table border=\"1\" class=\"dataframe\">\n",
       "  <thead>\n",
       "    <tr style=\"text-align: right;\">\n",
       "      <th></th>\n",
       "      <th>MMM</th>\n",
       "    </tr>\n",
       "    <tr>\n",
       "      <th>Date</th>\n",
       "      <th></th>\n",
       "    </tr>\n",
       "  </thead>\n",
       "  <tbody>\n",
       "    <tr>\n",
       "      <td>2018-09-30</td>\n",
       "      <td>201.264673</td>\n",
       "    </tr>\n",
       "    <tr>\n",
       "      <td>2018-10-31</td>\n",
       "      <td>190.910536</td>\n",
       "    </tr>\n",
       "    <tr>\n",
       "      <td>2018-11-30</td>\n",
       "      <td>191.170284</td>\n",
       "    </tr>\n",
       "    <tr>\n",
       "      <td>2018-12-31</td>\n",
       "      <td>186.176839</td>\n",
       "    </tr>\n",
       "    <tr>\n",
       "      <td>2019-01-31</td>\n",
       "      <td>184.784626</td>\n",
       "    </tr>\n",
       "    <tr>\n",
       "      <td>2019-02-28</td>\n",
       "      <td>197.726914</td>\n",
       "    </tr>\n",
       "    <tr>\n",
       "      <td>2019-03-31</td>\n",
       "      <td>199.081088</td>\n",
       "    </tr>\n",
       "    <tr>\n",
       "      <td>2019-04-30</td>\n",
       "      <td>203.466542</td>\n",
       "    </tr>\n",
       "    <tr>\n",
       "      <td>2019-05-31</td>\n",
       "      <td>166.782777</td>\n",
       "    </tr>\n",
       "    <tr>\n",
       "      <td>2019-06-30</td>\n",
       "      <td>164.543591</td>\n",
       "    </tr>\n",
       "    <tr>\n",
       "      <td>2019-07-31</td>\n",
       "      <td>169.096236</td>\n",
       "    </tr>\n",
       "    <tr>\n",
       "      <td>2019-08-31</td>\n",
       "      <td>158.372035</td>\n",
       "    </tr>\n",
       "    <tr>\n",
       "      <td>2019-09-30</td>\n",
       "      <td>163.051564</td>\n",
       "    </tr>\n",
       "    <tr>\n",
       "      <td>2019-10-31</td>\n",
       "      <td>158.249711</td>\n",
       "    </tr>\n",
       "    <tr>\n",
       "      <td>2019-11-30</td>\n",
       "      <td>168.334397</td>\n",
       "    </tr>\n",
       "    <tr>\n",
       "      <td>2019-12-31</td>\n",
       "      <td>169.818376</td>\n",
       "    </tr>\n",
       "    <tr>\n",
       "      <td>2020-01-31</td>\n",
       "      <td>174.580490</td>\n",
       "    </tr>\n",
       "    <tr>\n",
       "      <td>2020-02-29</td>\n",
       "      <td>156.643851</td>\n",
       "    </tr>\n",
       "  </tbody>\n",
       "</table>\n",
       "</div>"
      ],
      "text/plain": [
       "                   MMM\n",
       "Date                  \n",
       "2018-09-30  201.264673\n",
       "2018-10-31  190.910536\n",
       "2018-11-30  191.170284\n",
       "2018-12-31  186.176839\n",
       "2019-01-31  184.784626\n",
       "2019-02-28  197.726914\n",
       "2019-03-31  199.081088\n",
       "2019-04-30  203.466542\n",
       "2019-05-31  166.782777\n",
       "2019-06-30  164.543591\n",
       "2019-07-31  169.096236\n",
       "2019-08-31  158.372035\n",
       "2019-09-30  163.051564\n",
       "2019-10-31  158.249711\n",
       "2019-11-30  168.334397\n",
       "2019-12-31  169.818376\n",
       "2020-01-31  174.580490\n",
       "2020-02-29  156.643851"
      ]
     },
     "execution_count": 8,
     "metadata": {},
     "output_type": "execute_result"
    }
   ],
   "source": [
    "test"
   ]
  },
  {
   "cell_type": "code",
   "execution_count": 9,
   "metadata": {},
   "outputs": [],
   "source": [
    "scaler = MinMaxScaler()"
   ]
  },
  {
   "cell_type": "code",
   "execution_count": 10,
   "metadata": {},
   "outputs": [
    {
     "data": {
      "text/plain": [
       "MinMaxScaler(copy=True, feature_range=(0, 1))"
      ]
     },
     "execution_count": 10,
     "metadata": {},
     "output_type": "execute_result"
    }
   ],
   "source": [
    "scaler.fit(train)"
   ]
  },
  {
   "cell_type": "code",
   "execution_count": 11,
   "metadata": {},
   "outputs": [],
   "source": [
    "scaled_train = scaler.transform(train)\n",
    "scaled_test = scaler.transform(test)"
   ]
  },
  {
   "cell_type": "code",
   "execution_count": 12,
   "metadata": {},
   "outputs": [],
   "source": [
    "length = 12\n",
    "generator = TimeseriesGenerator(scaled_train, scaled_train, length=length, batch_size=1)"
   ]
  },
  {
   "cell_type": "code",
   "execution_count": 13,
   "metadata": {},
   "outputs": [],
   "source": [
    "X,y = generator[0]"
   ]
  },
  {
   "cell_type": "code",
   "execution_count": 14,
   "metadata": {},
   "outputs": [
    {
     "name": "stdout",
     "output_type": "stream",
     "text": [
      "Given the Array: \n",
      "[0.01413175 0.00341863 0.000947   0.00922953 0.00192079 0.\n",
      " 0.00541476 0.01391027 0.00766245 0.01263887 0.0194618  0.04550258]\n",
      "Predict this y: \n",
      " [[0.04239666]]\n"
     ]
    }
   ],
   "source": [
    "print(f'Given the Array: \\n{X.flatten()}')\n",
    "print(f'Predict this y: \\n {y}')"
   ]
  },
  {
   "cell_type": "code",
   "execution_count": 15,
   "metadata": {},
   "outputs": [],
   "source": [
    "n_features = 1"
   ]
  },
  {
   "cell_type": "code",
   "execution_count": 16,
   "metadata": {},
   "outputs": [
    {
     "name": "stdout",
     "output_type": "stream",
     "text": [
      "WARNING:tensorflow:From C:\\Users\\khatt\\Anaconda3\\lib\\site-packages\\tensorflow\\python\\ops\\init_ops.py:1251: calling VarianceScaling.__init__ (from tensorflow.python.ops.init_ops) with dtype is deprecated and will be removed in a future version.\n",
      "Instructions for updating:\n",
      "Call initializer instance with the dtype argument instead of passing it to the constructor\n"
     ]
    }
   ],
   "source": [
    "model = Sequential()\n",
    "model.add(LSTM(100, activation='relu', input_shape=(length, n_features)))\n",
    "model.add(Dense(1))\n",
    "model.compile(optimizer='adam', loss='mse')"
   ]
  },
  {
   "cell_type": "code",
   "execution_count": 17,
   "metadata": {},
   "outputs": [
    {
     "name": "stdout",
     "output_type": "stream",
     "text": [
      "Model: \"sequential\"\n",
      "_________________________________________________________________\n",
      "Layer (type)                 Output Shape              Param #   \n",
      "=================================================================\n",
      "lstm (LSTM)                  (None, 100)               40800     \n",
      "_________________________________________________________________\n",
      "dense (Dense)                (None, 1)                 101       \n",
      "=================================================================\n",
      "Total params: 40,901\n",
      "Trainable params: 40,901\n",
      "Non-trainable params: 0\n",
      "_________________________________________________________________\n"
     ]
    }
   ],
   "source": [
    "model.summary()"
   ]
  },
  {
   "cell_type": "code",
   "execution_count": 18,
   "metadata": {},
   "outputs": [],
   "source": [
    "early_stop = EarlyStopping(monitor='val_loss',patience=2)"
   ]
  },
  {
   "cell_type": "code",
   "execution_count": 19,
   "metadata": {},
   "outputs": [],
   "source": [
    "validation_generator = TimeseriesGenerator(scaled_test,scaled_test, length=length, batch_size=1)"
   ]
  },
  {
   "cell_type": "code",
   "execution_count": 20,
   "metadata": {},
   "outputs": [
    {
     "name": "stdout",
     "output_type": "stream",
     "text": [
      "Epoch 1/14\n",
      "WARNING:tensorflow:From C:\\Users\\khatt\\Anaconda3\\lib\\site-packages\\tensorflow\\python\\ops\\math_grad.py:1250: add_dispatch_support.<locals>.wrapper (from tensorflow.python.ops.array_ops) is deprecated and will be removed in a future version.\n",
      "Instructions for updating:\n",
      "Use tf.where in 2.0, which has the same broadcast rule as np.where\n",
      "212/212 [==============================] - 9s 42ms/step - loss: 0.0167 - val_loss: 0.0121\n",
      "Epoch 2/14\n",
      "212/212 [==============================] - 3s 16ms/step - loss: 0.0033 - val_loss: 0.0195\n",
      "Epoch 3/14\n",
      "212/212 [==============================] - 3s 15ms/step - loss: 0.0025 - val_loss: 0.0019\n",
      "Epoch 4/14\n",
      "212/212 [==============================] - 3s 16ms/step - loss: 0.0023 - val_loss: 0.0014\n",
      "Epoch 5/14\n",
      "212/212 [==============================] - 3s 16ms/step - loss: 0.0022 - val_loss: 0.0082\n",
      "Epoch 6/14\n",
      "212/212 [==============================] - 3s 16ms/step - loss: 0.0019 - val_loss: 0.0066\n",
      "Epoch 7/14\n",
      "212/212 [==============================] - 3s 16ms/step - loss: 0.0016 - val_loss: 0.0036\n",
      "Epoch 8/14\n",
      "212/212 [==============================] - 3s 16ms/step - loss: 0.0014 - val_loss: 0.0020\n",
      "Epoch 9/14\n",
      "212/212 [==============================] - 3s 16ms/step - loss: 0.0015 - val_loss: 0.0027\n",
      "Epoch 10/14\n",
      "212/212 [==============================] - 3s 16ms/step - loss: 0.0012 - val_loss: 0.0029\n",
      "Epoch 11/14\n",
      "212/212 [==============================] - 4s 17ms/step - loss: 0.0012 - val_loss: 0.0015\n",
      "Epoch 12/14\n",
      "212/212 [==============================] - 3s 16ms/step - loss: 0.0016 - val_loss: 0.0020\n",
      "Epoch 13/14\n",
      "212/212 [==============================] - 4s 17ms/step - loss: 0.0013 - val_loss: 0.0041\n",
      "Epoch 14/14\n",
      "212/212 [==============================] - 3s 16ms/step - loss: 0.0012 - val_loss: 0.0049\n"
     ]
    },
    {
     "data": {
      "text/plain": [
       "<tensorflow.python.keras.callbacks.History at 0x173af993f88>"
      ]
     },
     "execution_count": 20,
     "metadata": {},
     "output_type": "execute_result"
    }
   ],
   "source": [
    "model.fit_generator(generator,epochs=14,\n",
    "                    validation_data=validation_generator)"
   ]
  },
  {
   "cell_type": "code",
   "execution_count": 21,
   "metadata": {},
   "outputs": [],
   "source": [
    "losses = pd.DataFrame(model.history.history)"
   ]
  },
  {
   "cell_type": "code",
   "execution_count": 22,
   "metadata": {},
   "outputs": [
    {
     "data": {
      "text/plain": [
       "<matplotlib.axes._subplots.AxesSubplot at 0x173b04518c8>"
      ]
     },
     "execution_count": 22,
     "metadata": {},
     "output_type": "execute_result"
    },
    {
     "data": {
      "image/png": "[encoded data removed]",
      "text/plain": [
       "<Figure size 432x288 with 1 Axes>"
      ]
     },
     "metadata": {
      "needs_background": "light"
     },
     "output_type": "display_data"
    }
   ],
   "source": [
    "losses.plot()"
   ]
  },
  {
   "cell_type": "code",
   "execution_count": 23,
   "metadata": {},
   "outputs": [],
   "source": [
    "test_predictions = []\n",
    "\n",
    "first_eval_batch = scaled_train[-length:]\n",
    "current_batch = first_eval_batch.reshape((1, length, n_features))\n",
    "\n",
    "for i in range(len(test)):\n",
    "    current_pred = model.predict(current_batch)[0]\n",
    "    \n",
    "    test_predictions.append(current_pred) \n",
    "    \n",
    "    current_batch = np.append(current_batch[:,1:,:],[[current_pred]],axis=1)\n",
    "    \n",
    "    "
   ]
  },
  {
   "cell_type": "code",
   "execution_count": 24,
   "metadata": {},
   "outputs": [],
   "source": [
    "true_predictions = scaler.inverse_transform(test_predictions)"
   ]
  },
  {
   "cell_type": "code",
   "execution_count": 25,
   "metadata": {},
   "outputs": [
    {
     "name": "stderr",
     "output_type": "stream",
     "text": [
      "C:\\Users\\khatt\\Anaconda3\\lib\\site-packages\\ipykernel_launcher.py:1: SettingWithCopyWarning: \n",
      "A value is trying to be set on a copy of a slice from a DataFrame.\n",
      "Try using .loc[row_indexer,col_indexer] = value instead\n",
      "\n",
      "See the caveats in the documentation: http://pandas.pydata.org/pandas-docs/stable/user_guide/indexing.html#returning-a-view-versus-a-copy\n",
      "  \"\"\"Entry point for launching an IPython kernel.\n"
     ]
    }
   ],
   "source": [
    "test['Predictions'] = true_predictions"
   ]
  },
  {
   "cell_type": "code",
   "execution_count": 26,
   "metadata": {},
   "outputs": [
    {
     "data": {
      "text/html": [
       "<div>\n",
       "<style scoped>\n",
       "    .dataframe tbody tr th:only-of-type {\n",
       "        vertical-align: middle;\n",
       "    }\n",
       "\n",
       "    .dataframe tbody tr th {\n",
       "        vertical-align: top;\n",
       "    }\n",
       "\n",
       "    .dataframe thead th {\n",
       "        text-align: right;\n",
       "    }\n",
       "</style>\n",
       "<table border=\"1\" class=\"dataframe\">\n",
       "  <thead>\n",
       "    <tr style=\"text-align: right;\">\n",
       "      <th></th>\n",
       "      <th>MMM</th>\n",
       "      <th>Predictions</th>\n",
       "    </tr>\n",
       "    <tr>\n",
       "      <th>Date</th>\n",
       "      <th></th>\n",
       "      <th></th>\n",
       "    </tr>\n",
       "  </thead>\n",
       "  <tbody>\n",
       "    <tr>\n",
       "      <td>2018-09-30</td>\n",
       "      <td>201.264673</td>\n",
       "      <td>206.424861</td>\n",
       "    </tr>\n",
       "    <tr>\n",
       "      <td>2018-10-31</td>\n",
       "      <td>190.910536</td>\n",
       "      <td>212.129740</td>\n",
       "    </tr>\n",
       "    <tr>\n",
       "      <td>2018-11-30</td>\n",
       "      <td>191.170284</td>\n",
       "      <td>219.460528</td>\n",
       "    </tr>\n",
       "    <tr>\n",
       "      <td>2018-12-31</td>\n",
       "      <td>186.176839</td>\n",
       "      <td>227.466744</td>\n",
       "    </tr>\n",
       "    <tr>\n",
       "      <td>2019-01-31</td>\n",
       "      <td>184.784626</td>\n",
       "      <td>235.756050</td>\n",
       "    </tr>\n",
       "    <tr>\n",
       "      <td>2019-02-28</td>\n",
       "      <td>197.726914</td>\n",
       "      <td>243.890745</td>\n",
       "    </tr>\n",
       "    <tr>\n",
       "      <td>2019-03-31</td>\n",
       "      <td>199.081088</td>\n",
       "      <td>251.743892</td>\n",
       "    </tr>\n",
       "    <tr>\n",
       "      <td>2019-04-30</td>\n",
       "      <td>203.466542</td>\n",
       "      <td>259.453096</td>\n",
       "    </tr>\n",
       "    <tr>\n",
       "      <td>2019-05-31</td>\n",
       "      <td>166.782777</td>\n",
       "      <td>267.270422</td>\n",
       "    </tr>\n",
       "    <tr>\n",
       "      <td>2019-06-30</td>\n",
       "      <td>164.543591</td>\n",
       "      <td>275.395575</td>\n",
       "    </tr>\n",
       "    <tr>\n",
       "      <td>2019-07-31</td>\n",
       "      <td>169.096236</td>\n",
       "      <td>283.794496</td>\n",
       "    </tr>\n",
       "    <tr>\n",
       "      <td>2019-08-31</td>\n",
       "      <td>158.372035</td>\n",
       "      <td>292.505600</td>\n",
       "    </tr>\n",
       "    <tr>\n",
       "      <td>2019-09-30</td>\n",
       "      <td>163.051564</td>\n",
       "      <td>301.501457</td>\n",
       "    </tr>\n",
       "    <tr>\n",
       "      <td>2019-10-31</td>\n",
       "      <td>158.249711</td>\n",
       "      <td>310.693006</td>\n",
       "    </tr>\n",
       "    <tr>\n",
       "      <td>2019-11-30</td>\n",
       "      <td>168.334397</td>\n",
       "      <td>320.149075</td>\n",
       "    </tr>\n",
       "    <tr>\n",
       "      <td>2019-12-31</td>\n",
       "      <td>169.818376</td>\n",
       "      <td>329.853856</td>\n",
       "    </tr>\n",
       "    <tr>\n",
       "      <td>2020-01-31</td>\n",
       "      <td>174.580490</td>\n",
       "      <td>339.810336</td>\n",
       "    </tr>\n",
       "    <tr>\n",
       "      <td>2020-02-29</td>\n",
       "      <td>156.643851</td>\n",
       "      <td>350.023457</td>\n",
       "    </tr>\n",
       "  </tbody>\n",
       "</table>\n",
       "</div>"
      ],
      "text/plain": [
       "                   MMM  Predictions\n",
       "Date                               \n",
       "2018-09-30  201.264673   206.424861\n",
       "2018-10-31  190.910536   212.129740\n",
       "2018-11-30  191.170284   219.460528\n",
       "2018-12-31  186.176839   227.466744\n",
       "2019-01-31  184.784626   235.756050\n",
       "2019-02-28  197.726914   243.890745\n",
       "2019-03-31  199.081088   251.743892\n",
       "2019-04-30  203.466542   259.453096\n",
       "2019-05-31  166.782777   267.270422\n",
       "2019-06-30  164.543591   275.395575\n",
       "2019-07-31  169.096236   283.794496\n",
       "2019-08-31  158.372035   292.505600\n",
       "2019-09-30  163.051564   301.501457\n",
       "2019-10-31  158.249711   310.693006\n",
       "2019-11-30  168.334397   320.149075\n",
       "2019-12-31  169.818376   329.853856\n",
       "2020-01-31  174.580490   339.810336\n",
       "2020-02-29  156.643851   350.023457"
      ]
     },
     "execution_count": 26,
     "metadata": {},
     "output_type": "execute_result"
    }
   ],
   "source": [
    "test"
   ]
  },
  {
   "cell_type": "code",
   "execution_count": 27,
   "metadata": {},
   "outputs": [
    {
     "data": {
      "text/plain": [
       "<matplotlib.axes._subplots.AxesSubplot at 0x173b20cc088>"
      ]
     },
     "execution_count": 27,
     "metadata": {},
     "output_type": "execute_result"
    },
    {
     "data": {
      "image/png": "[encoded data removed]",
      "text/plain": [
       "<Figure size 864x576 with 1 Axes>"
      ]
     },
     "metadata": {
      "needs_background": "light"
     },
     "output_type": "display_data"
    }
   ],
   "source": [
    "test.plot(figsize=(12,8))"
   ]
  },
  {
   "cell_type": "code",
   "execution_count": 28,
   "metadata": {},
   "outputs": [],
   "source": [
    "full_scaler = MinMaxScaler()\n",
    "scaled_full_data = full_scaler.fit_transform(df)"
   ]
  },
  {
   "cell_type": "code",
   "execution_count": 29,
   "metadata": {},
   "outputs": [],
   "source": [
    "length = 12 # Length of the output sequences (in number of timesteps)\n",
    "generator = TimeseriesGenerator(scaled_full_data, scaled_full_data, length=length, batch_size=1)"
   ]
  },
  {
   "cell_type": "code",
   "execution_count": 30,
   "metadata": {},
   "outputs": [
    {
     "name": "stdout",
     "output_type": "stream",
     "text": [
      "Epoch 1/20\n",
      "230/230 [==============================] - 11s 49ms/step - loss: 0.0213\n",
      "Epoch 2/20\n",
      "230/230 [==============================] - 5s 20ms/step - loss: 0.0031\n",
      "Epoch 3/20\n",
      "230/230 [==============================] - 4s 19ms/step - loss: 0.0030\n",
      "Epoch 4/20\n",
      "230/230 [==============================] - 4s 18ms/step - loss: 0.0027\n",
      "Epoch 5/20\n",
      "230/230 [==============================] - 4s 17ms/step - loss: 0.0019\n",
      "Epoch 6/20\n",
      "230/230 [==============================] - 4s 18ms/step - loss: 0.0020\n",
      "Epoch 7/20\n",
      "230/230 [==============================] - 4s 19ms/step - loss: 0.0019\n",
      "Epoch 8/20\n",
      "230/230 [==============================] - 5s 20ms/step - loss: 0.0018\n",
      "Epoch 9/20\n",
      "230/230 [==============================] - 4s 19ms/step - loss: 0.0017\n",
      "Epoch 10/20\n",
      "230/230 [==============================] - 4s 19ms/step - loss: 0.0017\n",
      "Epoch 11/20\n",
      "230/230 [==============================] - 4s 19ms/step - loss: 0.0016\n",
      "Epoch 12/20\n",
      "230/230 [==============================] - 4s 19ms/step - loss: 0.0014-\n",
      "Epoch 13/20\n",
      "230/230 [==============================] - 4s 19ms/step - loss: 0.0015\n",
      "Epoch 14/20\n",
      "230/230 [==============================] - 4s 19ms/step - loss: 0.0015: 0s -\n",
      "Epoch 15/20\n",
      "230/230 [==============================] - 4s 19ms/step - loss: 0.0011\n",
      "Epoch 16/20\n",
      "230/230 [==============================] - 4s 19ms/step - loss: 0.0012\n",
      "Epoch 17/20\n",
      "230/230 [==============================] - 5s 20ms/step - loss: 0.0013\n",
      "Epoch 18/20\n",
      "230/230 [==============================] - 5s 20ms/step - loss: 0.0014\n",
      "Epoch 19/20\n",
      "230/230 [==============================] - 4s 19ms/step - loss: 0.0011 ETA: 0s - loss: 9.142\n",
      "Epoch 20/20\n",
      "230/230 [==============================] - 4s 19ms/step - loss: 0.0017\n"
     ]
    },
    {
     "data": {
      "text/plain": [
       "<tensorflow.python.keras.callbacks.History at 0x173e5363dc8>"
      ]
     },
     "execution_count": 30,
     "metadata": {},
     "output_type": "execute_result"
    }
   ],
   "source": [
    "model = Sequential()\n",
    "model.add(LSTM(100, activation='relu', input_shape=(length, n_features)))\n",
    "model.add(Dense(1))\n",
    "model.compile(optimizer='adam', loss='mse')\n",
    "\n",
    "\n",
    "# fit model\n",
    "model.fit_generator(generator,epochs=20)"
   ]
  },
  {
   "cell_type": "code",
   "execution_count": 31,
   "metadata": {},
   "outputs": [],
   "source": [
    "forecast = []"
   ]
  },
  {
   "cell_type": "code",
   "execution_count": 32,
   "metadata": {},
   "outputs": [],
   "source": [
    "periods = 12"
   ]
  },
  {
   "cell_type": "code",
   "execution_count": 33,
   "metadata": {},
   "outputs": [],
   "source": [
    "first_eval_batch = scaled_full_data[-length:]\n",
    "current_batch = first_eval_batch.reshape((1, length, n_features))"
   ]
  },
  {
   "cell_type": "code",
   "execution_count": 34,
   "metadata": {},
   "outputs": [],
   "source": [
    "for i in range(periods):\n",
    "    current_pred = model.predict(current_batch)[0]\n",
    "    \n",
    "    forecast.append(current_pred) \n",
    "    \n",
    "    current_batch = np.append(current_batch[:,1:,:],[[current_pred]],axis=1)\n",
    "    \n",
    "    "
   ]
  },
  {
   "cell_type": "code",
   "execution_count": 35,
   "metadata": {},
   "outputs": [],
   "source": [
    "forecast = scaler.inverse_transform(forecast)"
   ]
  },
  {
   "cell_type": "code",
   "execution_count": 36,
   "metadata": {},
   "outputs": [
    {
     "data": {
      "text/html": [
       "<div>\n",
       "<style scoped>\n",
       "    .dataframe tbody tr th:only-of-type {\n",
       "        vertical-align: middle;\n",
       "    }\n",
       "\n",
       "    .dataframe tbody tr th {\n",
       "        vertical-align: top;\n",
       "    }\n",
       "\n",
       "    .dataframe thead th {\n",
       "        text-align: right;\n",
       "    }\n",
       "</style>\n",
       "<table border=\"1\" class=\"dataframe\">\n",
       "  <thead>\n",
       "    <tr style=\"text-align: right;\">\n",
       "      <th></th>\n",
       "      <th>MMM</th>\n",
       "    </tr>\n",
       "    <tr>\n",
       "      <th>Date</th>\n",
       "      <th></th>\n",
       "    </tr>\n",
       "  </thead>\n",
       "  <tbody>\n",
       "    <tr>\n",
       "      <td>2000-01-31</td>\n",
       "      <td>26.994161</td>\n",
       "    </tr>\n",
       "    <tr>\n",
       "      <td>2000-02-29</td>\n",
       "      <td>24.795302</td>\n",
       "    </tr>\n",
       "    <tr>\n",
       "      <td>2000-03-31</td>\n",
       "      <td>24.288003</td>\n",
       "    </tr>\n",
       "    <tr>\n",
       "      <td>2000-04-30</td>\n",
       "      <td>25.987985</td>\n",
       "    </tr>\n",
       "    <tr>\n",
       "      <td>2000-05-31</td>\n",
       "      <td>24.487872</td>\n",
       "    </tr>\n",
       "    <tr>\n",
       "      <td>...</td>\n",
       "      <td>...</td>\n",
       "    </tr>\n",
       "    <tr>\n",
       "      <td>2019-10-31</td>\n",
       "      <td>158.249711</td>\n",
       "    </tr>\n",
       "    <tr>\n",
       "      <td>2019-11-30</td>\n",
       "      <td>168.334397</td>\n",
       "    </tr>\n",
       "    <tr>\n",
       "      <td>2019-12-31</td>\n",
       "      <td>169.818376</td>\n",
       "    </tr>\n",
       "    <tr>\n",
       "      <td>2020-01-31</td>\n",
       "      <td>174.580490</td>\n",
       "    </tr>\n",
       "    <tr>\n",
       "      <td>2020-02-29</td>\n",
       "      <td>156.643851</td>\n",
       "    </tr>\n",
       "  </tbody>\n",
       "</table>\n",
       "<p>242 rows × 1 columns</p>\n",
       "</div>"
      ],
      "text/plain": [
       "                   MMM\n",
       "Date                  \n",
       "2000-01-31   26.994161\n",
       "2000-02-29   24.795302\n",
       "2000-03-31   24.288003\n",
       "2000-04-30   25.987985\n",
       "2000-05-31   24.487872\n",
       "...                ...\n",
       "2019-10-31  158.249711\n",
       "2019-11-30  168.334397\n",
       "2019-12-31  169.818376\n",
       "2020-01-31  174.580490\n",
       "2020-02-29  156.643851\n",
       "\n",
       "[242 rows x 1 columns]"
      ]
     },
     "execution_count": 36,
     "metadata": {},
     "output_type": "execute_result"
    }
   ],
   "source": [
    "df"
   ]
  },
  {
   "cell_type": "code",
   "execution_count": 37,
   "metadata": {},
   "outputs": [],
   "source": [
    "forecast_index = pd.date_range(start='2020-03-31',periods=periods,freq='MS')"
   ]
  },
  {
   "cell_type": "code",
   "execution_count": 38,
   "metadata": {},
   "outputs": [],
   "source": [
    "forecast_df = pd.DataFrame(data=forecast,index=forecast_index,\n",
    "                           columns=['Forecast'])"
   ]
  },
  {
   "cell_type": "code",
   "execution_count": 39,
   "metadata": {},
   "outputs": [
    {
     "data": {
      "text/html": [
       "<div>\n",
       "<style scoped>\n",
       "    .dataframe tbody tr th:only-of-type {\n",
       "        vertical-align: middle;\n",
       "    }\n",
       "\n",
       "    .dataframe tbody tr th {\n",
       "        vertical-align: top;\n",
       "    }\n",
       "\n",
       "    .dataframe thead th {\n",
       "        text-align: right;\n",
       "    }\n",
       "</style>\n",
       "<table border=\"1\" class=\"dataframe\">\n",
       "  <thead>\n",
       "    <tr style=\"text-align: right;\">\n",
       "      <th></th>\n",
       "      <th>Forecast</th>\n",
       "    </tr>\n",
       "  </thead>\n",
       "  <tbody>\n",
       "    <tr>\n",
       "      <td>2020-04-01</td>\n",
       "      <td>161.319456</td>\n",
       "    </tr>\n",
       "    <tr>\n",
       "      <td>2020-05-01</td>\n",
       "      <td>160.086766</td>\n",
       "    </tr>\n",
       "    <tr>\n",
       "      <td>2020-06-01</td>\n",
       "      <td>158.749049</td>\n",
       "    </tr>\n",
       "    <tr>\n",
       "      <td>2020-07-01</td>\n",
       "      <td>157.340130</td>\n",
       "    </tr>\n",
       "    <tr>\n",
       "      <td>2020-08-01</td>\n",
       "      <td>156.032912</td>\n",
       "    </tr>\n",
       "    <tr>\n",
       "      <td>2020-09-01</td>\n",
       "      <td>154.989051</td>\n",
       "    </tr>\n",
       "    <tr>\n",
       "      <td>2020-10-01</td>\n",
       "      <td>153.991788</td>\n",
       "    </tr>\n",
       "    <tr>\n",
       "      <td>2020-11-01</td>\n",
       "      <td>153.018613</td>\n",
       "    </tr>\n",
       "    <tr>\n",
       "      <td>2020-12-01</td>\n",
       "      <td>152.069074</td>\n",
       "    </tr>\n",
       "    <tr>\n",
       "      <td>2021-01-01</td>\n",
       "      <td>151.213540</td>\n",
       "    </tr>\n",
       "    <tr>\n",
       "      <td>2021-02-01</td>\n",
       "      <td>150.426026</td>\n",
       "    </tr>\n",
       "    <tr>\n",
       "      <td>2021-03-01</td>\n",
       "      <td>149.733189</td>\n",
       "    </tr>\n",
       "  </tbody>\n",
       "</table>\n",
       "</div>"
      ],
      "text/plain": [
       "              Forecast\n",
       "2020-04-01  161.319456\n",
       "2020-05-01  160.086766\n",
       "2020-06-01  158.749049\n",
       "2020-07-01  157.340130\n",
       "2020-08-01  156.032912\n",
       "2020-09-01  154.989051\n",
       "2020-10-01  153.991788\n",
       "2020-11-01  153.018613\n",
       "2020-12-01  152.069074\n",
       "2021-01-01  151.213540\n",
       "2021-02-01  150.426026\n",
       "2021-03-01  149.733189"
      ]
     },
     "execution_count": 39,
     "metadata": {},
     "output_type": "execute_result"
    }
   ],
   "source": [
    "forecast_df"
   ]
  },
  {
   "cell_type": "code",
   "execution_count": 40,
   "metadata": {},
   "outputs": [
    {
     "data": {
      "text/plain": [
       "<matplotlib.axes._subplots.AxesSubplot at 0x174145a1c48>"
      ]
     },
     "execution_count": 40,
     "metadata": {},
     "output_type": "execute_result"
    },
    {
     "data": {
      "image/png": "[encoded data removed]",
      "text/plain": [
       "<Figure size 432x288 with 1 Axes>"
      ]
     },
     "metadata": {
      "needs_background": "light"
     },
     "output_type": "display_data"
    },
    {
     "data": {
      "image/png": "[encoded data removed]",
      "text/plain": [
       "<Figure size 432x288 with 1 Axes>"
      ]
     },
     "metadata": {
      "needs_background": "light"
     },
     "output_type": "display_data"
    }
   ],
   "source": [
    "df.plot()\n",
    "forecast_df.plot()"
   ]
  },
  {
   "cell_type": "code",
   "execution_count": 41,
   "metadata": {},
   "outputs": [
    {
     "data": {
      "text/plain": [
       "<matplotlib.axes._subplots.AxesSubplot at 0x1741459db88>"
      ]
     },
     "execution_count": 41,
     "metadata": {},
     "output_type": "execute_result"
    },
    {
     "data": {
      "image/png": "[encoded data removed]",
      "text/plain": [
       "<Figure size 432x288 with 1 Axes>"
      ]
     },
     "metadata": {
      "needs_background": "light"
     },
     "output_type": "display_data"
    }
   ],
   "source": [
    "ax = df.plot()\n",
    "forecast_df.plot(ax=ax)"
   ]
  },
  {
   "cell_type": "code",
   "execution_count": 42,
   "metadata": {},
   "outputs": [
    {
     "data": {
      "text/plain": [
       "(576, 623)"
      ]
     },
     "execution_count": 42,
     "metadata": {},
     "output_type": "execute_result"
    },
    {
     "data": {
      "image/png": "[encoded data removed]",
      "text/plain": [
       "<Figure size 432x288 with 1 Axes>"
      ]
     },
     "metadata": {
      "needs_background": "light"
     },
     "output_type": "display_data"
    }
   ],
   "source": [
    "ax = df.plot()\n",
    "forecast_df.plot(ax=ax)\n",
    "plt.xlim('2018-01-01','2021-12-01')"
   ]
  },
  {
   "cell_type": "code",
   "execution_count": null,
   "metadata": {},
   "outputs": [],
   "source": []
  },
  {
   "cell_type": "code",
   "execution_count": null,
   "metadata": {},
   "outputs": [],
   "source": []
  },
  {
   "cell_type": "code",
   "execution_count": null,
   "metadata": {},
   "outputs": [],
   "source": []
  }
 ],
 "metadata": {
  "kernelspec": {
   "display_name": "Python 3",
   "language": "python",
   "name": "python3"
  },
  "language_info": {
   "codemirror_mode": {
    "name": "ipython",
    "version": 3
   },
   "file_extension": ".py",
   "mimetype": "text/x-python",
   "name": "python",
   "nbconvert_exporter": "python",
   "pygments_lexer": "ipython3",
   "version": "3.7.4"
  }
 },
 "nbformat": 4,
 "nbformat_minor": 2
}
