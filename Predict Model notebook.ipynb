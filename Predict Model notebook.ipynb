{
 "cells": [
  {
   "cell_type": "code",
   "execution_count": 1,
   "metadata": {},
   "outputs": [],
   "source": [
    "import pandas as pd\n",
    "import numpy as np\n",
    "import matplotlib.pyplot as plt\n",
    "import os\n",
    "from sklearn.preprocessing import  MinMaxScaler\n",
    "from tensorflow.keras.preprocessing.sequence import TimeseriesGenerator\n",
    "from tensorflow.keras.models import Sequential\n",
    "from tensorflow.keras.layers import Dense\n",
    "from tensorflow.keras.layers import LSTM\n",
    "from tensorflow.keras.callbacks import EarlyStopping"
   ]
  },
  {
   "cell_type": "code",
   "execution_count": 12,
   "metadata": {},
   "outputs": [],
   "source": [
    "#Preparing data\n",
    "\n",
    "df = pd.read_csv('sp500_Adj close values.csv')\n",
    "\n",
    "df.set_index('Date', inplace=True)\n",
    "\n"
   ]
  },
  {
   "cell_type": "code",
   "execution_count": 13,
   "metadata": {},
   "outputs": [
    {
     "name": "stdout",
     "output_type": "stream",
     "text": [
      "> What is the ticker for the company whose adjusted close value you want to predict for? \n",
      ">aapl\n"
     ]
    }
   ],
   "source": [
    "ticker = input('> What is the ticker for the company'\n",
    "               ' whose adjusted close value you want to predict for? \\n>').upper()\n",
    "\n",
    "df = df.loc[:,[f'{ticker}']]"
   ]
  },
  {
   "cell_type": "code",
   "execution_count": 14,
   "metadata": {},
   "outputs": [
    {
     "data": {
      "image/png": "[encoded data removed]",
      "text/plain": [
       "<Figure size 432x288 with 1 Axes>"
      ]
     },
     "metadata": {
      "needs_background": "light"
     },
     "output_type": "display_data"
    }
   ],
   "source": [
    "#visualize current graph\n",
    "\n",
    "plt.plot(df)\n",
    "plt.xlabel('Date')\n",
    "plt.ylabel('Adj. Close Value ($)')\n",
    "plt.show()"
   ]
  },
  {
   "cell_type": "code",
   "execution_count": 15,
   "metadata": {},
   "outputs": [
    {
     "name": "stdout",
     "output_type": "stream",
     "text": [
      "How many days into the future do you want to predict for your test data? \n",
      "(Ideally less than 2 years)\n",
      "360\n"
     ]
    }
   ],
   "source": [
    "test_size = int(input('How many days into the future do you want to predict for your test data? '\n",
    "                      '\\n(Ideally less than 2 years)\\n'))"
   ]
  },
  {
   "cell_type": "code",
   "execution_count": 16,
   "metadata": {},
   "outputs": [
    {
     "name": "stdout",
     "output_type": "stream",
     "text": [
      "                  AAPL\n",
      "Date                  \n",
      "2018-08-29  218.915482\n",
      "2018-08-30  220.928101\n",
      "2018-08-31  223.480713\n",
      "2018-09-04  224.197418\n",
      "2018-09-05  222.734589\n",
      "...                ...\n",
      "2020-01-29  324.339996\n",
      "2020-01-30  323.869995\n",
      "2020-01-31  309.510010\n",
      "2020-02-03  308.660004\n",
      "2020-02-04  318.850006\n",
      "\n",
      "[360 rows x 1 columns]\n"
     ]
    }
   ],
   "source": [
    "test_ind = len(df) - test_size\n",
    "\n",
    "train = df.iloc[:test_ind]\n",
    "\n",
    "test = df.iloc[test_ind:]\n",
    "\n",
    "print(test)"
   ]
  },
  {
   "cell_type": "code",
   "execution_count": 17,
   "metadata": {},
   "outputs": [],
   "source": [
    "scaler = MinMaxScaler()\n",
    "\n",
    "scaler.fit(train)\n",
    "\n",
    "scaled_train = scaler.transform(train)\n",
    "\n",
    "scaled_test = scaler.transform(test)"
   ]
  },
  {
   "cell_type": "code",
   "execution_count": 18,
   "metadata": {},
   "outputs": [],
   "source": [
    "length = int(test_size/2)\n",
    "\n",
    "generator = TimeseriesGenerator(scaled_train, scaled_train, length=length, batch_size=1)\n",
    "\n",
    "X, y = generator[0]"
   ]
  },
  {
   "cell_type": "code",
   "execution_count": 19,
   "metadata": {},
   "outputs": [
    {
     "name": "stdout",
     "output_type": "stream",
     "text": [
      "Given the Array: \n",
      "[1.42298873e-02 1.44696291e-02 1.22599899e-02 1.20072722e-02\n",
      " 1.29144647e-02 1.17027402e-02 1.01540290e-02 1.20526433e-02\n",
      " 1.12621050e-02 8.99411885e-03 1.48973182e-02 1.27524692e-02\n",
      " 1.03808048e-02 3.69353032e-03 7.14085578e-03 9.00060186e-03\n",
      " 1.02577173e-02 4.69145498e-03 6.46311378e-06 1.73658896e-03\n",
      " 2.46882992e-03 4.65257686e-03 0.00000000e+00 2.20963917e-03\n",
      " 1.34132480e-03 2.68267944e-03 1.98932654e-03 4.28969788e-03\n",
      " 5.39779377e-03 7.35468541e-03 6.80389886e-03 7.05014349e-03\n",
      " 6.23368319e-03 5.42369594e-03 3.24643200e-03 5.57918851e-03\n",
      " 6.44751282e-03 8.14525349e-03 1.09769922e-02 1.08862700e-02\n",
      " 1.11972750e-02 1.20915313e-02 1.74309682e-02 1.75152173e-02\n",
      " 2.00683262e-02 2.12476755e-02 2.16753149e-02 2.23881565e-02\n",
      " 2.05996638e-02 2.09949379e-02 2.07811381e-02 2.11245382e-02\n",
      " 1.95693440e-02 2.11893285e-02 2.35285978e-02 2.41830627e-02\n",
      " 2.24205218e-02 2.51744944e-02 2.61399841e-02 2.83820582e-02\n",
      " 2.78312617e-02 2.84598244e-02 3.00927350e-02 3.07731319e-02\n",
      " 3.14600117e-02 3.10388255e-02 3.22311109e-02 3.25551118e-02\n",
      " 3.26458440e-02 3.47582878e-02 3.68513126e-02 3.58663638e-02\n",
      " 3.56525442e-02 3.40454959e-02 4.35256011e-02 4.82235490e-02\n",
      " 5.10488247e-02 5.01870430e-02 4.53529322e-02 4.50678592e-02\n",
      " 4.96297237e-02 4.47374051e-02 4.81458326e-02 4.31756981e-02\n",
      " 4.14326460e-02 3.51211569e-02 2.83885412e-02 4.01366326e-02\n",
      " 4.17760462e-02 4.53853870e-02 4.29683614e-02 4.00265012e-02\n",
      " 4.02857118e-02 3.90803610e-02 3.64754974e-02 2.96197644e-02\n",
      " 3.25745508e-02 3.54516408e-02 3.44537956e-02 3.37345008e-02\n",
      " 3.97219294e-02 4.20093546e-02 4.45689068e-02 4.65906483e-02\n",
      " 4.60528178e-02 4.14131672e-02 3.81602522e-02 3.71169863e-02\n",
      " 3.31447963e-02 3.78816522e-02 3.98255878e-02 4.03245899e-02\n",
      " 4.38301828e-02 4.87290043e-02 5.17227584e-02 5.31483025e-02\n",
      " 5.06211853e-02 5.30057760e-02 5.11395071e-02 4.98629924e-02\n",
      " 4.83726183e-02 4.94094409e-02 4.15492704e-02 3.85426100e-02\n",
      " 3.65662196e-02 3.55683149e-02 3.66634348e-02 4.31691952e-02\n",
      " 4.27933999e-02 4.37848814e-02 4.22750085e-02 3.87175019e-02\n",
      " 3.93202320e-02 3.84906963e-02 3.74863980e-02 3.46870544e-02\n",
      " 3.87758588e-02 4.02986082e-02 4.33960803e-02 4.39921982e-02\n",
      " 4.35645588e-02 4.66748478e-02 4.46531062e-02 4.28063858e-02\n",
      " 4.22491063e-02 4.52298347e-02 4.52816789e-02 4.59620956e-02\n",
      " 4.51326494e-02 4.40893835e-02 4.51650445e-02 4.36487781e-02\n",
      " 3.76742260e-02 3.87110288e-02 3.69679469e-02 3.60218863e-02\n",
      " 3.88277129e-02 3.95405048e-02 3.74734320e-02 3.73178798e-02\n",
      " 3.48295810e-02 3.10258695e-02 3.29439526e-02 3.12526552e-02\n",
      " 3.21209994e-02 3.26912150e-02 3.30800061e-02 3.77650079e-02\n",
      " 3.89572635e-02 4.32340252e-02 4.26119754e-02 4.59232374e-02\n",
      " 4.60204028e-02 4.62407254e-02 4.85929210e-02 4.92538489e-02\n",
      " 5.06535804e-02 5.47682969e-02 5.39907346e-02 5.90839467e-02]\n",
      "Predict this y: \n",
      " [[0.05943387]]\n"
     ]
    }
   ],
   "source": [
    "print(f'Given the Array: \\n{X.flatten()}')\n",
    "print(f'Predict this y: \\n {y}')"
   ]
  },
  {
   "cell_type": "code",
   "execution_count": 20,
   "metadata": {},
   "outputs": [
    {
     "name": "stdout",
     "output_type": "stream",
     "text": [
      "Model: \"sequential_1\"\n",
      "_________________________________________________________________\n",
      "Layer (type)                 Output Shape              Param #   \n",
      "=================================================================\n",
      "lstm_1 (LSTM)                (None, 100)               40800     \n",
      "_________________________________________________________________\n",
      "dense_1 (Dense)              (None, 1)                 101       \n",
      "=================================================================\n",
      "Total params: 40,901\n",
      "Trainable params: 40,901\n",
      "Non-trainable params: 0\n",
      "_________________________________________________________________\n"
     ]
    }
   ],
   "source": [
    "n_features = 1\n",
    "\n",
    "model = Sequential()\n",
    "model.add(LSTM(100, activation='relu', input_shape=(length, n_features)))\n",
    "model.add(Dense(1))\n",
    "model.compile(optimizer='adam', loss='mse')\n",
    "\n",
    "model.summary()"
   ]
  },
  {
   "cell_type": "code",
   "execution_count": 21,
   "metadata": {},
   "outputs": [
    {
     "name": "stdout",
     "output_type": "stream",
     "text": [
      "Epoch 1/2\n",
      "1999/1999 [==============================] - 829s 415ms/step - loss: 0.0020 - val_loss: 0.0018\n",
      "Epoch 2/2\n",
      "1999/1999 [==============================] - 1096s 548ms/step - loss: 3.0575e-04 - val_loss: 5.4198e-04\n"
     ]
    },
    {
     "data": {
      "text/plain": [
       "<tensorflow.python.keras.callbacks.History at 0x1064812d488>"
      ]
     },
     "execution_count": 21,
     "metadata": {},
     "output_type": "execute_result"
    }
   ],
   "source": [
    "early_stop = EarlyStopping(monitor='val_loss',patience=2)\n",
    "\n",
    "validation_generator = TimeseriesGenerator(scaled_test,scaled_test, length=length, batch_size=1)\n",
    "\n",
    "model.fit_generator(generator,epochs=10,\n",
    "                    validation_data=validation_generator,\n",
    "                   callbacks=[early_stop])"
   ]
  },
  {
   "cell_type": "code",
   "execution_count": 22,
   "metadata": {},
   "outputs": [
    {
     "data": {
      "image/png": "[encoded data removed]",
      "text/plain": [
       "<Figure size 432x288 with 1 Axes>"
      ]
     },
     "metadata": {
      "needs_background": "light"
     },
     "output_type": "display_data"
    }
   ],
   "source": [
    "losses = pd.DataFrame(model.history.history)\n",
    "\n",
    "losses.plot()\n",
    "\n",
    "plt.show()"
   ]
  },
  {
   "cell_type": "code",
   "execution_count": 23,
   "metadata": {},
   "outputs": [
    {
     "name": "stderr",
     "output_type": "stream",
     "text": [
      "C:\\Users\\khatt\\Anaconda3\\lib\\site-packages\\ipykernel_launcher.py:15: SettingWithCopyWarning: \n",
      "A value is trying to be set on a copy of a slice from a DataFrame.\n",
      "Try using .loc[row_indexer,col_indexer] = value instead\n",
      "\n",
      "See the caveats in the documentation: http://pandas.pydata.org/pandas-docs/stable/user_guide/indexing.html#returning-a-view-versus-a-copy\n",
      "  from ipykernel import kernelapp as app\n"
     ]
    },
    {
     "data": {
      "image/png": "[encoded data removed]",
      "text/plain": [
       "<Figure size 864x576 with 1 Axes>"
      ]
     },
     "metadata": {
      "needs_background": "light"
     },
     "output_type": "display_data"
    }
   ],
   "source": [
    "test_predictions = []\n",
    "\n",
    "first_eval_batch = scaled_train[-length:]\n",
    "current_batch = first_eval_batch.reshape((1, length, n_features))\n",
    "\n",
    "for i in range(len(test)):\n",
    "    current_pred = model.predict(current_batch)[0]\n",
    "\n",
    "    test_predictions.append(current_pred)\n",
    "\n",
    "    current_batch = np.append(current_batch[:, 1:, :], [[current_pred]], axis=1)\n",
    "\n",
    "true_predictions = scaler.inverse_transform(test_predictions)\n",
    "\n",
    "test['Predictions'] = true_predictions\n",
    "\n",
    "test.plot(figsize=(12,8))\n",
    "\n",
    "plt.show()"
   ]
  },
  {
   "cell_type": "code",
   "execution_count": 24,
   "metadata": {},
   "outputs": [],
   "source": [
    "full_scaler = MinMaxScaler()\n",
    "scaled_full_data = full_scaler.fit_transform(df)"
   ]
  },
  {
   "cell_type": "code",
   "execution_count": null,
   "metadata": {},
   "outputs": [
    {
     "name": "stdout",
     "output_type": "stream",
     "text": [
      "Epoch 1/2\n",
      "1155/2359 [=============>................] - ETA: 14:32 - loss: 0.0027"
     ]
    }
   ],
   "source": [
    "generator = TimeseriesGenerator(scaled_full_data, scaled_full_data, length=length, batch_size=1)\n",
    "\n",
    "model = Sequential()\n",
    "model.add(LSTM(100, activation='relu', input_shape=(length, n_features)))\n",
    "model.add(Dense(1))\n",
    "model.compile(optimizer='adam', loss='mse')\n",
    "\n",
    "model.fit_generator(generator,epochs=10)"
   ]
  },
  {
   "cell_type": "code",
   "execution_count": null,
   "metadata": {},
   "outputs": [],
   "source": [
    "forecast = []\n",
    "\n",
    "periods = int(input('> '))\n",
    "\n",
    "first_eval_batch = scaled_full_data[-length:]\n",
    "current_batch = first_eval_batch.reshape((1, length, n_features))\n",
    "\n",
    "for i in range(periods):\n",
    "    current_pred = model.predict(current_batch)[0]\n",
    "\n",
    "    forecast.append(current_pred)\n",
    "\n",
    "    current_batch = np.append(current_batch[:, 1:, :], [[current_pred]], axis=1)\n",
    "\n",
    "forecast = scaler.inverse_transform(forecast)"
   ]
  },
  {
   "cell_type": "code",
   "execution_count": null,
   "metadata": {},
   "outputs": [],
   "source": [
    "forecast_index = pd.date_range(start='2020-02-05',periods=periods,freq='MS')"
   ]
  },
  {
   "cell_type": "code",
   "execution_count": null,
   "metadata": {},
   "outputs": [],
   "source": [
    "forecast_df = pd.DataFrame(data=forecast,index=forecast_index,\n",
    "                           columns=['Forecast'])"
   ]
  },
  {
   "cell_type": "code",
   "execution_count": null,
   "metadata": {},
   "outputs": [],
   "source": [
    "forecast_df"
   ]
  },
  {
   "cell_type": "code",
   "execution_count": null,
   "metadata": {},
   "outputs": [],
   "source": [
    "df.plot()\n",
    "forecast_df.plot()"
   ]
  },
  {
   "cell_type": "code",
   "execution_count": null,
   "metadata": {},
   "outputs": [],
   "source": [
    "ax = df.plot()\n",
    "forecast_df.plot(ax=ax)"
   ]
  },
  {
   "cell_type": "code",
   "execution_count": null,
   "metadata": {},
   "outputs": [],
   "source": [
    "ax = df.plot()\n",
    "forecast_df.plot(ax=ax)\n",
    "plt.xlim('2020-01-01','2021-04-01')"
   ]
  },
  {
   "cell_type": "code",
   "execution_count": null,
   "metadata": {},
   "outputs": [],
   "source": []
  }
 ],
 "metadata": {
  "kernelspec": {
   "display_name": "Python 3",
   "language": "python",
   "name": "python3"
  },
  "language_info": {
   "codemirror_mode": {
    "name": "ipython",
    "version": 3
   },
   "file_extension": ".py",
   "mimetype": "text/x-python",
   "name": "python",
   "nbconvert_exporter": "python",
   "pygments_lexer": "ipython3",
   "version": "3.7.4"
  }
 },
 "nbformat": 4,
 "nbformat_minor": 2
}
